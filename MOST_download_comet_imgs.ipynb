{
 "cells": [
  {
   "cell_type": "code",
   "execution_count": null,
   "metadata": {},
   "outputs": [],
   "source": [
    "import numpy as np\n",
    "import os\n",
    "import requests\n",
    "import glob\n",
    "from bs4 import BeautifulSoup\n",
    "\n",
    "''' input comet identifier and date range required '''\n",
    "cmtname = '143P'\n",
    "date_start = '2017+10+24' #format = yyyy+mm+dd \n",
    "date_end = '2018+10+09' #format = yyyy+mm+dd\n",
    "\n",
    "''' use most api to download full html website returned'''\n",
    "website1 = f\"https://irsa.ipac.caltech.edu/cgi-bin/MOST/nph-most?catalog=ztf&input_type=name_input&obj_name={cmtname}&obs_begin={date_start}&obs_end={date_end}&output_mode=Full\"\n",
    "r = requests.get(website1)\n",
    "\n",
    "''' create desired filters list and then use beautiful soup to parse html '''\n",
    "html = r.content\n",
    "filters = ['zr', 'zi']\n",
    "soup = BeautifulSoup(r.content, 'html.parser')\n",
    "\n",
    "''' in directory of jupyter create a folder to hold all comet images named \n",
    "    using the comet identifiter above '''\n",
    "path = f'/Users/josephmurtagh/Comets/'\n",
    "name = os.path.join(path, cmtname)\n",
    "newdir = os.mkdir(name)\n",
    "\n",
    "''' find all <a> tags within the html webpage and from those look at those that\n",
    "    end in .fits and are in the desired filters. click those links, and any that \n",
    "    don't return a 404 will be downloaded to the directory '''\n",
    "for link in soup.find_all('a'):\n",
    "    href = link.get('href')\n",
    "    if href.endswith('.fits'):\n",
    "        if any(x in href for x in filters):\n",
    "            img = requests.get(href)\n",
    "            if img.status_code == 404:\n",
    "                pass\n",
    "            else:\n",
    "                fname = href[href.find('ztf_'):]\n",
    "                with open(fname, 'wb') as file:\n",
    "                    file = open(name+f'/{fname}', 'wb')\n",
    "                    file.write(img.content)\n",
    "                    file.close()\n",
    "        else:\n",
    "            pass\n",
    "    else:\n",
    "        continue\n",
    "        \n",
    "print('DONE')"
   ]
  }
 ],
 "metadata": {
  "language_info": {
   "name": "python"
  },
  "orig_nbformat": 4
 },
 "nbformat": 4,
 "nbformat_minor": 2
}
